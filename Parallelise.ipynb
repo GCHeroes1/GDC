{
  "nbformat": 4,
  "nbformat_minor": 0,
  "metadata": {
    "colab": {
      "name": "Parallelise.ipynb",
      "provenance": [],
      "collapsed_sections": [],
      "authorship_tag": "ABX9TyNeKoNCHalx9M9WX1VanwDY",
      "include_colab_link": true
    },
    "kernelspec": {
      "name": "python3",
      "display_name": "Python 3"
    }
  },
  "cells": [
    {
      "cell_type": "markdown",
      "metadata": {
        "id": "view-in-github",
        "colab_type": "text"
      },
      "source": [
        "<a href=\"https://colab.research.google.com/github/GCHeroes1/GDC/blob/master/Parallelise.ipynb\" target=\"_parent\"><img src=\"https://colab.research.google.com/assets/colab-badge.svg\" alt=\"Open In Colab\"/></a>"
      ]
    },
    {
      "cell_type": "code",
      "metadata": {
        "id": "psIT1djz5GFA"
      },
      "source": [
        "import numpy as np\n",
        "np.random.seed(0)\n",
        "import torch\n",
        "torch.cuda.empty_cache\n",
        "torch.manual_seed(0)\n",
        "import random\n",
        "random.seed(0)\n",
        "from torch.utils.data import Dataset, DataLoader\n",
        "import torch.nn as nn\n",
        "from torch.nn import Module\n",
        "from torch.autograd import Variable\n",
        "from matplotlib import pyplot as plt\n",
        "import cv2\n",
        "import os\n",
        "import torchvision\n",
        "import PIL\n",
        "import math\n",
        "import pandas as pd\n",
        "import shutil"
      ],
      "execution_count": 1,
      "outputs": []
    },
    {
      "cell_type": "code",
      "metadata": {
        "id": "T1Oz4czT5M5-"
      },
      "source": [
        "import os \n",
        "import zipfile \n",
        "import tensorflow as tf \n",
        "from tensorflow.keras.preprocessing.image import ImageDataGenerator \n",
        "from tensorflow.keras import layers \n",
        "from tensorflow.keras import Model \n",
        "import matplotlib.pyplot as plt\n",
        "import pandas as pd"
      ],
      "execution_count": 2,
      "outputs": []
    },
    {
      "cell_type": "code",
      "metadata": {
        "colab": {
          "base_uri": "https://localhost:8080/"
        },
        "id": "zpAUECa64ZWo",
        "outputId": "6a8d0890-71f6-4b5d-f3ed-2cbf3ec0a567"
      },
      "source": [
        "from google.colab import drive\n",
        "drive.mount('/content/drive')"
      ],
      "execution_count": 3,
      "outputs": [
        {
          "output_type": "stream",
          "text": [
            "Mounted at /content/drive\n"
          ],
          "name": "stdout"
        }
      ]
    },
    {
      "cell_type": "code",
      "metadata": {
        "colab": {
          "base_uri": "https://localhost:8080/"
        },
        "id": "ZdmGjNq74iFZ",
        "outputId": "3a3d990c-0a40-4972-a2e0-0dde014a48e7"
      },
      "source": [
        "!apt update && apt install -y openslide-tools\n",
        "!pip install openslide-python"
      ],
      "execution_count": 4,
      "outputs": [
        {
          "output_type": "stream",
          "text": [
            "\u001b[33m\r0% [Working]\u001b[0m\r            \rIgn:1 https://developer.download.nvidia.com/compute/cuda/repos/ubuntu1804/x86_64  InRelease\n",
            "Get:2 https://cloud.r-project.org/bin/linux/ubuntu bionic-cran40/ InRelease [3,626 B]\n",
            "Ign:3 https://developer.download.nvidia.com/compute/machine-learning/repos/ubuntu1804/x86_64  InRelease\n",
            "Get:4 https://developer.download.nvidia.com/compute/cuda/repos/ubuntu1804/x86_64  Release [697 B]\n",
            "Hit:5 https://developer.download.nvidia.com/compute/machine-learning/repos/ubuntu1804/x86_64  Release\n",
            "Get:6 https://developer.download.nvidia.com/compute/cuda/repos/ubuntu1804/x86_64  Release.gpg [836 B]\n",
            "Get:7 http://security.ubuntu.com/ubuntu bionic-security InRelease [88.7 kB]\n",
            "Get:8 http://ppa.launchpad.net/c2d4u.team/c2d4u4.0+/ubuntu bionic InRelease [15.9 kB]\n",
            "Hit:9 http://archive.ubuntu.com/ubuntu bionic InRelease\n",
            "Get:10 http://archive.ubuntu.com/ubuntu bionic-updates InRelease [88.7 kB]\n",
            "Hit:11 http://ppa.launchpad.net/cran/libgit2/ubuntu bionic InRelease\n",
            "Hit:13 http://ppa.launchpad.net/deadsnakes/ppa/ubuntu bionic InRelease\n",
            "Get:14 http://archive.ubuntu.com/ubuntu bionic-backports InRelease [74.6 kB]\n",
            "Hit:15 http://ppa.launchpad.net/graphics-drivers/ppa/ubuntu bionic InRelease\n",
            "Ign:16 https://developer.download.nvidia.com/compute/cuda/repos/ubuntu1804/x86_64  Packages\n",
            "Get:16 https://developer.download.nvidia.com/compute/cuda/repos/ubuntu1804/x86_64  Packages [602 kB]\n",
            "Get:17 http://ppa.launchpad.net/c2d4u.team/c2d4u4.0+/ubuntu bionic/main Sources [1,746 kB]\n",
            "Get:18 http://security.ubuntu.com/ubuntu bionic-security/universe amd64 Packages [1,396 kB]\n",
            "Get:19 http://archive.ubuntu.com/ubuntu bionic-updates/main amd64 Packages [2,394 kB]\n",
            "Get:20 http://security.ubuntu.com/ubuntu bionic-security/main amd64 Packages [1,964 kB]\n",
            "Get:21 http://ppa.launchpad.net/c2d4u.team/c2d4u4.0+/ubuntu bionic/main amd64 Packages [893 kB]\n",
            "Get:22 http://archive.ubuntu.com/ubuntu bionic-updates/universe amd64 Packages [2,163 kB]\n",
            "Fetched 11.4 MB in 4s (3,073 kB/s)\n",
            "Reading package lists... Done\n",
            "Building dependency tree       \n",
            "Reading state information... Done\n",
            "48 packages can be upgraded. Run 'apt list --upgradable' to see them.\n",
            "Reading package lists... Done\n",
            "Building dependency tree       \n",
            "Reading state information... Done\n",
            "The following additional packages will be installed:\n",
            "  libopenslide0\n",
            "Suggested packages:\n",
            "  libtiff-tools\n",
            "The following NEW packages will be installed:\n",
            "  libopenslide0 openslide-tools\n",
            "0 upgraded, 2 newly installed, 0 to remove and 48 not upgraded.\n",
            "Need to get 92.5 kB of archives.\n",
            "After this operation, 268 kB of additional disk space will be used.\n",
            "Get:1 http://archive.ubuntu.com/ubuntu bionic/universe amd64 libopenslide0 amd64 3.4.1+dfsg-2 [79.8 kB]\n",
            "Get:2 http://archive.ubuntu.com/ubuntu bionic/universe amd64 openslide-tools amd64 3.4.1+dfsg-2 [12.7 kB]\n",
            "Fetched 92.5 kB in 1s (130 kB/s)\n",
            "Selecting previously unselected package libopenslide0.\n",
            "(Reading database ... 160975 files and directories currently installed.)\n",
            "Preparing to unpack .../libopenslide0_3.4.1+dfsg-2_amd64.deb ...\n",
            "Unpacking libopenslide0 (3.4.1+dfsg-2) ...\n",
            "Selecting previously unselected package openslide-tools.\n",
            "Preparing to unpack .../openslide-tools_3.4.1+dfsg-2_amd64.deb ...\n",
            "Unpacking openslide-tools (3.4.1+dfsg-2) ...\n",
            "Setting up libopenslide0 (3.4.1+dfsg-2) ...\n",
            "Setting up openslide-tools (3.4.1+dfsg-2) ...\n",
            "Processing triggers for libc-bin (2.27-3ubuntu1.2) ...\n",
            "/sbin/ldconfig.real: /usr/local/lib/python3.7/dist-packages/ideep4py/lib/libmkldnn.so.0 is not a symbolic link\n",
            "\n",
            "Processing triggers for man-db (2.8.3-2ubuntu0.1) ...\n",
            "Collecting openslide-python\n",
            "\u001b[?25l  Downloading https://files.pythonhosted.org/packages/03/da/12dc0e7566ace61a5a65244220458dcb656b09cbf18ca50f3098875d97e4/openslide-python-1.1.2.tar.gz (316kB)\n",
            "\u001b[K     |████████████████████████████████| 317kB 4.9MB/s \n",
            "\u001b[?25hRequirement already satisfied: Pillow in /usr/local/lib/python3.7/dist-packages (from openslide-python) (7.0.0)\n",
            "Building wheels for collected packages: openslide-python\n",
            "  Building wheel for openslide-python (setup.py) ... \u001b[?25l\u001b[?25hdone\n",
            "  Created wheel for openslide-python: filename=openslide_python-1.1.2-cp37-cp37m-linux_x86_64.whl size=27634 sha256=ee22cd561581f188ff4e651436df12756cae973ad8c437cc3b3ccddbe8544f9e\n",
            "  Stored in directory: /root/.cache/pip/wheels/6b/55/74/ba9d3dcc2c5c0f1282e08bae70df0ed57b496fb6b5c8f1adc9\n",
            "Successfully built openslide-python\n",
            "Installing collected packages: openslide-python\n",
            "Successfully installed openslide-python-1.1.2\n"
          ],
          "name": "stdout"
        }
      ]
    },
    {
      "cell_type": "code",
      "metadata": {
        "id": "LEUw-P4E4yY3"
      },
      "source": [
        "import openslide\n",
        "import openslide.deepzoom"
      ],
      "execution_count": 5,
      "outputs": []
    },
    {
      "cell_type": "code",
      "metadata": {
        "colab": {
          "base_uri": "https://localhost:8080/",
          "height": 949
        },
        "id": "orVR54WT47jT",
        "outputId": "2e689391-5f56-4709-881a-e5eb48f1668c"
      },
      "source": [
        "df = pd.read_csv(\"/content/drive/MyDrive/reconstructedData.csv\")\n",
        "df = df[df['slides__file_id'].notna()]\n",
        "df = df[df['years_survived'].notna()]\n",
        "df"
      ],
      "execution_count": 6,
      "outputs": [
        {
          "output_type": "execute_result",
          "data": {
            "text/html": [
              "<div>\n",
              "<style scoped>\n",
              "    .dataframe tbody tr th:only-of-type {\n",
              "        vertical-align: middle;\n",
              "    }\n",
              "\n",
              "    .dataframe tbody tr th {\n",
              "        vertical-align: top;\n",
              "    }\n",
              "\n",
              "    .dataframe thead th {\n",
              "        text-align: right;\n",
              "    }\n",
              "</style>\n",
              "<table border=\"1\" class=\"dataframe\">\n",
              "  <thead>\n",
              "    <tr style=\"text-align: right;\">\n",
              "      <th></th>\n",
              "      <th>patient_id</th>\n",
              "      <th>vital_status</th>\n",
              "      <th>years_to_death</th>\n",
              "      <th>age_at_diagnosis</th>\n",
              "      <th>year_of_diagnosis</th>\n",
              "      <th>tumor_stage</th>\n",
              "      <th>tissue_or_organ_of_origin</th>\n",
              "      <th>site_of_resection_or_biopsy</th>\n",
              "      <th>biopsy_tissue_type</th>\n",
              "      <th>prior_malignancy</th>\n",
              "      <th>primary_diagnosis</th>\n",
              "      <th>years_survived</th>\n",
              "      <th>slides__slide_id</th>\n",
              "      <th>slides__file_id</th>\n",
              "      <th>slides__file_size</th>\n",
              "      <th>slides__case_id</th>\n",
              "      <th>slides__section_location</th>\n",
              "      <th>slides__submitter_id</th>\n",
              "      <th>slides__SampleCode</th>\n",
              "      <th>slides__sample_type</th>\n",
              "      <th>slides__percent_stromal_cells</th>\n",
              "      <th>slides__percent_tumor_cells</th>\n",
              "      <th>slides__percent_neutrophil_infiltration</th>\n",
              "      <th>slides__percent_lymphocyte_infiltration</th>\n",
              "      <th>slides__percent_necrosis</th>\n",
              "      <th>slides__percent_normal_cells</th>\n",
              "      <th>slides__percent_monocyte_infiltration</th>\n",
              "      <th>slides__percent_tumor_nuclei</th>\n",
              "      <th>years_to_last_follow_up</th>\n",
              "    </tr>\n",
              "  </thead>\n",
              "  <tbody>\n",
              "    <tr>\n",
              "      <th>0</th>\n",
              "      <td>9817ec15-605a-40db-b848-2199e5ccbb7b</td>\n",
              "      <td>Dead</td>\n",
              "      <td>3.506849</td>\n",
              "      <td>63.873973</td>\n",
              "      <td>1994.0</td>\n",
              "      <td>stage ii</td>\n",
              "      <td>Skin, NOS</td>\n",
              "      <td>Lymph nodes of axilla or arm</td>\n",
              "      <td>Lymph</td>\n",
              "      <td>no</td>\n",
              "      <td>Malignant melanoma, NOS</td>\n",
              "      <td>3.506849</td>\n",
              "      <td>b90d346a-e8b9-4e71-ada7-bce4cd3248da</td>\n",
              "      <td>71208712-2893-4404-9cef-ff090774d057</td>\n",
              "      <td>8.755867e+08</td>\n",
              "      <td>9817ec15-605a-40db-b848-2199e5ccbb7b</td>\n",
              "      <td>Not Reported</td>\n",
              "      <td>TCGA-W3-AA1V-01Z-00-DX1</td>\n",
              "      <td>1</td>\n",
              "      <td>Primary Solid Tumor</td>\n",
              "      <td>NaN</td>\n",
              "      <td>NaN</td>\n",
              "      <td>NaN</td>\n",
              "      <td>NaN</td>\n",
              "      <td>NaN</td>\n",
              "      <td>NaN</td>\n",
              "      <td>NaN</td>\n",
              "      <td>NaN</td>\n",
              "      <td>NaN</td>\n",
              "    </tr>\n",
              "    <tr>\n",
              "      <th>1</th>\n",
              "      <td>9817ec15-605a-40db-b848-2199e5ccbb7b</td>\n",
              "      <td>Dead</td>\n",
              "      <td>3.506849</td>\n",
              "      <td>63.873973</td>\n",
              "      <td>1994.0</td>\n",
              "      <td>stage ii</td>\n",
              "      <td>Skin, NOS</td>\n",
              "      <td>Lymph nodes of axilla or arm</td>\n",
              "      <td>Lymph</td>\n",
              "      <td>no</td>\n",
              "      <td>Malignant melanoma, NOS</td>\n",
              "      <td>3.506849</td>\n",
              "      <td>c3eb5853-b803-4b10-81a0-585f761a3e18</td>\n",
              "      <td>584e9078-ff46-4f7e-92a4-055836498fda</td>\n",
              "      <td>1.665154e+08</td>\n",
              "      <td>9817ec15-605a-40db-b848-2199e5ccbb7b</td>\n",
              "      <td>TOP</td>\n",
              "      <td>TCGA-W3-AA1V-06B-01-TS1</td>\n",
              "      <td>6</td>\n",
              "      <td>Metastatic</td>\n",
              "      <td>0.0</td>\n",
              "      <td>100.0</td>\n",
              "      <td>0.0</td>\n",
              "      <td>2.0</td>\n",
              "      <td>0.0</td>\n",
              "      <td>0.0</td>\n",
              "      <td>0.0</td>\n",
              "      <td>80.0</td>\n",
              "      <td>NaN</td>\n",
              "    </tr>\n",
              "    <tr>\n",
              "      <th>2</th>\n",
              "      <td>c59a5615-2dd1-4902-a62b-0e312eab5484</td>\n",
              "      <td>Alive</td>\n",
              "      <td>NaN</td>\n",
              "      <td>75.523288</td>\n",
              "      <td>2005.0</td>\n",
              "      <td>stage iii</td>\n",
              "      <td>Skin, NOS</td>\n",
              "      <td>Lymph node, NOS</td>\n",
              "      <td>Lymph</td>\n",
              "      <td>no</td>\n",
              "      <td>Malignant melanoma, NOS</td>\n",
              "      <td>7.978082</td>\n",
              "      <td>057033de-f7d3-489c-aeb5-c2b71a730d84</td>\n",
              "      <td>d950dd14-9025-440b-9106-5970de364a40</td>\n",
              "      <td>9.343524e+08</td>\n",
              "      <td>c59a5615-2dd1-4902-a62b-0e312eab5484</td>\n",
              "      <td>Not Reported</td>\n",
              "      <td>TCGA-D3-A1QB-06Z-00-DX1</td>\n",
              "      <td>6</td>\n",
              "      <td>Metastatic</td>\n",
              "      <td>NaN</td>\n",
              "      <td>NaN</td>\n",
              "      <td>NaN</td>\n",
              "      <td>NaN</td>\n",
              "      <td>NaN</td>\n",
              "      <td>NaN</td>\n",
              "      <td>NaN</td>\n",
              "      <td>NaN</td>\n",
              "      <td>7.978082</td>\n",
              "    </tr>\n",
              "    <tr>\n",
              "      <th>3</th>\n",
              "      <td>c59a5615-2dd1-4902-a62b-0e312eab5484</td>\n",
              "      <td>Alive</td>\n",
              "      <td>NaN</td>\n",
              "      <td>75.523288</td>\n",
              "      <td>2005.0</td>\n",
              "      <td>stage iii</td>\n",
              "      <td>Skin, NOS</td>\n",
              "      <td>Lymph node, NOS</td>\n",
              "      <td>Lymph</td>\n",
              "      <td>no</td>\n",
              "      <td>Malignant melanoma, NOS</td>\n",
              "      <td>7.978082</td>\n",
              "      <td>4e893fc1-69ff-4c5a-a9b4-8f9219613db0</td>\n",
              "      <td>79536980-88a8-4df9-aa4b-285f6bdaed22</td>\n",
              "      <td>4.829648e+08</td>\n",
              "      <td>c59a5615-2dd1-4902-a62b-0e312eab5484</td>\n",
              "      <td>TOP</td>\n",
              "      <td>TCGA-D3-A1QB-06A-01-TSA</td>\n",
              "      <td>6</td>\n",
              "      <td>Metastatic</td>\n",
              "      <td>14.0</td>\n",
              "      <td>85.0</td>\n",
              "      <td>0.0</td>\n",
              "      <td>3.0</td>\n",
              "      <td>1.0</td>\n",
              "      <td>0.0</td>\n",
              "      <td>1.0</td>\n",
              "      <td>85.0</td>\n",
              "      <td>7.978082</td>\n",
              "    </tr>\n",
              "    <tr>\n",
              "      <th>4</th>\n",
              "      <td>57882f61-4a32-49f1-afd4-61c70b184d8b</td>\n",
              "      <td>Alive</td>\n",
              "      <td>NaN</td>\n",
              "      <td>55.572603</td>\n",
              "      <td>2005.0</td>\n",
              "      <td>stage iii</td>\n",
              "      <td>Skin, NOS</td>\n",
              "      <td>Lymph node, NOS</td>\n",
              "      <td>Lymph</td>\n",
              "      <td>no</td>\n",
              "      <td>Malignant melanoma, NOS</td>\n",
              "      <td>4.430137</td>\n",
              "      <td>d7b82c68-db47-441b-88dc-b7fcd0c24d02</td>\n",
              "      <td>c7b0b6dc-e550-4ddc-b4c1-661eebb9fa07</td>\n",
              "      <td>3.576689e+08</td>\n",
              "      <td>57882f61-4a32-49f1-afd4-61c70b184d8b</td>\n",
              "      <td>TOP</td>\n",
              "      <td>TCGA-FS-A1ZT-06A-01-TSA</td>\n",
              "      <td>6</td>\n",
              "      <td>Metastatic</td>\n",
              "      <td>7.0</td>\n",
              "      <td>90.0</td>\n",
              "      <td>0.0</td>\n",
              "      <td>0.0</td>\n",
              "      <td>3.0</td>\n",
              "      <td>0.0</td>\n",
              "      <td>0.0</td>\n",
              "      <td>85.0</td>\n",
              "      <td>4.430137</td>\n",
              "    </tr>\n",
              "    <tr>\n",
              "      <th>...</th>\n",
              "      <td>...</td>\n",
              "      <td>...</td>\n",
              "      <td>...</td>\n",
              "      <td>...</td>\n",
              "      <td>...</td>\n",
              "      <td>...</td>\n",
              "      <td>...</td>\n",
              "      <td>...</td>\n",
              "      <td>...</td>\n",
              "      <td>...</td>\n",
              "      <td>...</td>\n",
              "      <td>...</td>\n",
              "      <td>...</td>\n",
              "      <td>...</td>\n",
              "      <td>...</td>\n",
              "      <td>...</td>\n",
              "      <td>...</td>\n",
              "      <td>...</td>\n",
              "      <td>...</td>\n",
              "      <td>...</td>\n",
              "      <td>...</td>\n",
              "      <td>...</td>\n",
              "      <td>...</td>\n",
              "      <td>...</td>\n",
              "      <td>...</td>\n",
              "      <td>...</td>\n",
              "      <td>...</td>\n",
              "      <td>...</td>\n",
              "      <td>...</td>\n",
              "    </tr>\n",
              "    <tr>\n",
              "      <th>803</th>\n",
              "      <td>b1739cb5-09bc-414a-8f05-c66d2cb9868d</td>\n",
              "      <td>Dead</td>\n",
              "      <td>29.780822</td>\n",
              "      <td>51.624658</td>\n",
              "      <td>1978.0</td>\n",
              "      <td>i/ii nos</td>\n",
              "      <td>Skin, NOS</td>\n",
              "      <td>Skin, NOS</td>\n",
              "      <td>Skin</td>\n",
              "      <td>no</td>\n",
              "      <td>Malignant melanoma, NOS</td>\n",
              "      <td>29.780822</td>\n",
              "      <td>4d0a3fdc-815e-4a73-8b64-ffbdffa8a3df</td>\n",
              "      <td>77b41cfe-c186-47a8-ac8f-2e5a20ec17ba</td>\n",
              "      <td>1.461685e+09</td>\n",
              "      <td>b1739cb5-09bc-414a-8f05-c66d2cb9868d</td>\n",
              "      <td>Not Reported</td>\n",
              "      <td>TCGA-FS-A1ZC-06Z-00-DX2</td>\n",
              "      <td>6</td>\n",
              "      <td>Metastatic</td>\n",
              "      <td>NaN</td>\n",
              "      <td>NaN</td>\n",
              "      <td>NaN</td>\n",
              "      <td>NaN</td>\n",
              "      <td>NaN</td>\n",
              "      <td>NaN</td>\n",
              "      <td>NaN</td>\n",
              "      <td>NaN</td>\n",
              "      <td>NaN</td>\n",
              "    </tr>\n",
              "    <tr>\n",
              "      <th>804</th>\n",
              "      <td>b1739cb5-09bc-414a-8f05-c66d2cb9868d</td>\n",
              "      <td>Dead</td>\n",
              "      <td>29.780822</td>\n",
              "      <td>51.624658</td>\n",
              "      <td>1978.0</td>\n",
              "      <td>i/ii nos</td>\n",
              "      <td>Skin, NOS</td>\n",
              "      <td>Skin, NOS</td>\n",
              "      <td>Skin</td>\n",
              "      <td>no</td>\n",
              "      <td>Malignant melanoma, NOS</td>\n",
              "      <td>29.780822</td>\n",
              "      <td>8cf99dab-74e9-4498-b92c-119ec19b7c44</td>\n",
              "      <td>2e2ddc8e-f6f4-48f4-9549-7b4198307860</td>\n",
              "      <td>2.340166e+08</td>\n",
              "      <td>b1739cb5-09bc-414a-8f05-c66d2cb9868d</td>\n",
              "      <td>TOP</td>\n",
              "      <td>TCGA-FS-A1ZC-06A-01-TSA</td>\n",
              "      <td>6</td>\n",
              "      <td>Metastatic</td>\n",
              "      <td>10.0</td>\n",
              "      <td>85.0</td>\n",
              "      <td>0.0</td>\n",
              "      <td>3.0</td>\n",
              "      <td>5.0</td>\n",
              "      <td>0.0</td>\n",
              "      <td>1.0</td>\n",
              "      <td>90.0</td>\n",
              "      <td>NaN</td>\n",
              "    </tr>\n",
              "    <tr>\n",
              "      <th>805</th>\n",
              "      <td>c787c4da-c564-44f1-89eb-dd9da107acb1</td>\n",
              "      <td>Alive</td>\n",
              "      <td>NaN</td>\n",
              "      <td>69.964384</td>\n",
              "      <td>2012.0</td>\n",
              "      <td>stage iib</td>\n",
              "      <td>Skin, NOS</td>\n",
              "      <td>Skin of trunk</td>\n",
              "      <td>Skin</td>\n",
              "      <td>no</td>\n",
              "      <td>Malignant melanoma, NOS</td>\n",
              "      <td>0.221918</td>\n",
              "      <td>78c7eafb-caeb-4e39-bfd6-772e093bd9f3</td>\n",
              "      <td>d8eb66a8-1cb9-451c-b3a5-8c037a1240fd</td>\n",
              "      <td>6.468050e+08</td>\n",
              "      <td>c787c4da-c564-44f1-89eb-dd9da107acb1</td>\n",
              "      <td>Not Reported</td>\n",
              "      <td>TCGA-EB-A44O-01Z-00-DX1</td>\n",
              "      <td>1</td>\n",
              "      <td>Primary Solid Tumor</td>\n",
              "      <td>NaN</td>\n",
              "      <td>NaN</td>\n",
              "      <td>NaN</td>\n",
              "      <td>NaN</td>\n",
              "      <td>NaN</td>\n",
              "      <td>NaN</td>\n",
              "      <td>NaN</td>\n",
              "      <td>NaN</td>\n",
              "      <td>0.221918</td>\n",
              "    </tr>\n",
              "    <tr>\n",
              "      <th>806</th>\n",
              "      <td>c787c4da-c564-44f1-89eb-dd9da107acb1</td>\n",
              "      <td>Alive</td>\n",
              "      <td>NaN</td>\n",
              "      <td>69.964384</td>\n",
              "      <td>2012.0</td>\n",
              "      <td>stage iib</td>\n",
              "      <td>Skin, NOS</td>\n",
              "      <td>Skin of trunk</td>\n",
              "      <td>Skin</td>\n",
              "      <td>no</td>\n",
              "      <td>Malignant melanoma, NOS</td>\n",
              "      <td>0.221918</td>\n",
              "      <td>e274f684-1562-48d6-86a5-e650046d9a22</td>\n",
              "      <td>9ed87f0b-a49b-4141-9e90-1f9fe82c906c</td>\n",
              "      <td>4.945901e+08</td>\n",
              "      <td>c787c4da-c564-44f1-89eb-dd9da107acb1</td>\n",
              "      <td>Not Reported</td>\n",
              "      <td>TCGA-EB-A44O-06Z-00-DX1</td>\n",
              "      <td>6</td>\n",
              "      <td>Metastatic</td>\n",
              "      <td>NaN</td>\n",
              "      <td>NaN</td>\n",
              "      <td>NaN</td>\n",
              "      <td>NaN</td>\n",
              "      <td>NaN</td>\n",
              "      <td>NaN</td>\n",
              "      <td>NaN</td>\n",
              "      <td>NaN</td>\n",
              "      <td>0.221918</td>\n",
              "    </tr>\n",
              "    <tr>\n",
              "      <th>807</th>\n",
              "      <td>c787c4da-c564-44f1-89eb-dd9da107acb1</td>\n",
              "      <td>Alive</td>\n",
              "      <td>NaN</td>\n",
              "      <td>69.964384</td>\n",
              "      <td>2012.0</td>\n",
              "      <td>stage iib</td>\n",
              "      <td>Skin, NOS</td>\n",
              "      <td>Skin of trunk</td>\n",
              "      <td>Skin</td>\n",
              "      <td>no</td>\n",
              "      <td>Malignant melanoma, NOS</td>\n",
              "      <td>0.221918</td>\n",
              "      <td>683ccfd0-5835-4438-952e-70454dc842ad</td>\n",
              "      <td>5207040b-d5f1-4674-8449-8bb18877ba8b</td>\n",
              "      <td>2.123533e+08</td>\n",
              "      <td>c787c4da-c564-44f1-89eb-dd9da107acb1</td>\n",
              "      <td>TOP</td>\n",
              "      <td>TCGA-EB-A44O-01A-01-TSA</td>\n",
              "      <td>1</td>\n",
              "      <td>Primary Solid Tumor</td>\n",
              "      <td>0.0</td>\n",
              "      <td>100.0</td>\n",
              "      <td>0.0</td>\n",
              "      <td>2.0</td>\n",
              "      <td>0.0</td>\n",
              "      <td>0.0</td>\n",
              "      <td>0.0</td>\n",
              "      <td>80.0</td>\n",
              "      <td>0.221918</td>\n",
              "    </tr>\n",
              "  </tbody>\n",
              "</table>\n",
              "<p>805 rows × 29 columns</p>\n",
              "</div>"
            ],
            "text/plain": [
              "                               patient_id  ... years_to_last_follow_up\n",
              "0    9817ec15-605a-40db-b848-2199e5ccbb7b  ...                     NaN\n",
              "1    9817ec15-605a-40db-b848-2199e5ccbb7b  ...                     NaN\n",
              "2    c59a5615-2dd1-4902-a62b-0e312eab5484  ...                7.978082\n",
              "3    c59a5615-2dd1-4902-a62b-0e312eab5484  ...                7.978082\n",
              "4    57882f61-4a32-49f1-afd4-61c70b184d8b  ...                4.430137\n",
              "..                                    ...  ...                     ...\n",
              "803  b1739cb5-09bc-414a-8f05-c66d2cb9868d  ...                     NaN\n",
              "804  b1739cb5-09bc-414a-8f05-c66d2cb9868d  ...                     NaN\n",
              "805  c787c4da-c564-44f1-89eb-dd9da107acb1  ...                0.221918\n",
              "806  c787c4da-c564-44f1-89eb-dd9da107acb1  ...                0.221918\n",
              "807  c787c4da-c564-44f1-89eb-dd9da107acb1  ...                0.221918\n",
              "\n",
              "[805 rows x 29 columns]"
            ]
          },
          "metadata": {
            "tags": []
          },
          "execution_count": 6
        }
      ]
    },
    {
      "cell_type": "code",
      "metadata": {
        "id": "TEBZZYCP5EVZ"
      },
      "source": [
        "#Get Lymph nodes \n",
        "#Split into training and validation \n",
        "#Split each training and validation into further sub-labels: <3 years and >3 years "
      ],
      "execution_count": 7,
      "outputs": []
    },
    {
      "cell_type": "code",
      "metadata": {
        "id": "GD_PAW-p5Tr8"
      },
      "source": [
        "df_lymph_nodes = df[df.biopsy_tissue_type == \"Lymph\"]"
      ],
      "execution_count": 8,
      "outputs": []
    },
    {
      "cell_type": "code",
      "metadata": {
        "id": "pLub-YpA5WGt"
      },
      "source": [
        "train_lymph_nodes, validation_lymph_nodes = np.split(df_lymph_nodes.sample(frac=1, random_state=42), \n",
        "                       [int(.8*len(df_lymph_nodes))])"
      ],
      "execution_count": 9,
      "outputs": []
    },
    {
      "cell_type": "code",
      "metadata": {
        "colab": {
          "base_uri": "https://localhost:8080/"
        },
        "id": "NMJ3K8r35bXd",
        "outputId": "efcbe0c8-92e3-46b0-8f5b-8d9e6d439532"
      },
      "source": [
        "train_lymph_nodes_early = train_lymph_nodes[train_lymph_nodes.years_survived <= 3]\n",
        "train_lymph_nodes_late =  train_lymph_nodes[train_lymph_nodes.years_survived > 3]\n",
        "validation_lymph_nodes_early = validation_lymph_nodes[validation_lymph_nodes.years_survived <= 3]\n",
        "validation_lymph_nodes_late = validation_lymph_nodes[validation_lymph_nodes.years_survived > 3]\n",
        "\n",
        "print(train_lymph_nodes_early.shape[0])\n",
        "print(train_lymph_nodes_late.shape[0])\n",
        "print(validation_lymph_nodes_early.shape[0])\n",
        "print(validation_lymph_nodes_late.shape[0])\n",
        "print(train_lymph_nodes.shape[0])\n",
        "print(validation_lymph_nodes.shape[0])"
      ],
      "execution_count": 10,
      "outputs": [
        {
          "output_type": "stream",
          "text": [
            "120\n",
            "192\n",
            "28\n",
            "51\n",
            "312\n",
            "79\n"
          ],
          "name": "stdout"
        }
      ]
    },
    {
      "cell_type": "code",
      "metadata": {
        "colab": {
          "base_uri": "https://localhost:8080/"
        },
        "id": "ZhFPwlzI5fMm",
        "outputId": "8def20cb-0ed0-4cde-8288-72937a7a6758"
      },
      "source": [
        "lymph_training_early = train_lymph_nodes_early[\"slides__file_id\"].to_list()\n",
        "lymph_training_late = train_lymph_nodes_late[\"slides__file_id\"].to_list()\n",
        "\n",
        "lymph_validation_early = validation_lymph_nodes_early[\"slides__file_id\"].to_list()\n",
        "lymph_validation_late = validation_lymph_nodes_late[\"slides__file_id\"].to_list()\n",
        "\n",
        "print(lymph_training_early)\n",
        "print(lymph_training_late)\n",
        "print(lymph_validation_early)\n",
        "print(lymph_validation_late)"
      ],
      "execution_count": 11,
      "outputs": [
        {
          "output_type": "stream",
          "text": [
            "['2536bc10-9fce-4ca7-9745-f15c96bce10d', '2774b738-3f6c-420a-aa1e-f7fcf527097a', '3c5314b4-47d0-4cac-92de-55a27322afae', '7f6f5106-ae56-482d-9dc8-0fe1f3162f9e', '4e717887-8630-4c0e-83e7-5de145146faa', '38b991fa-f216-4868-b4f1-b6183263c6c8', '0cf1123e-3359-4889-8cca-6b97afef0834', '9a93d3c3-0552-4f93-aace-fd6c0393272c', '550eeb48-be7f-4c70-9793-d26f2b100a76', '9bba7325-e476-4119-beb8-51259b4cec92', '6f523ee3-e71c-4c7e-a9de-47f8ab119ebe', 'a31090b1-b5a6-447d-ab01-a3c73de29a92', 'da168ddd-57e5-4139-9271-2b22068ea278', 'a5e701a7-5d36-4474-9c7e-e86741190da5', 'fde27372-8dc2-42ae-8bcf-5250b0664cac', '1a500d64-ee11-4967-88cb-19cf5efaa7c5', 'dc960c3c-f493-4254-8447-a5cfff674aaa', '008e1882-c9cc-4ad3-9e31-42f8790719ca', 'de6e04de-3aa3-46ab-9964-ccbc4b8b131a', 'f917c05d-353c-4b7f-9661-4933d14bd385', '41033e82-c2d4-4178-a0f0-54352a2d723e', '6a1cf713-8486-4dbd-8264-419306f41fad', '084d3e41-2125-4c2c-90f0-62e9722b01ec', '3344753b-2d0d-4708-a119-cebacc7af80d', '1c76d23e-938f-4112-8832-b9899c41c792', 'abfb908e-28f7-49f7-bd84-86050754e972', 'b64673fc-27d8-4dc2-8dcc-e5da3e9399e7', '599849ef-81dd-4f49-88f9-986d31361a0b', '23e409e7-bc8b-4481-b6ab-a3de7b6d1aec', '686e465d-fc6a-4831-b4e8-b18fca7bfd97', '1cea27c5-7461-40dd-9a3b-fbf689287188', '4e9d81be-fbeb-4ed1-b222-7fb2431b9f9d', 'dfa976c7-2007-4994-bb2b-6e03d0354f54', '59d0b23a-6fea-4ea9-b53c-d891b0e0f23e', '68d1feaf-189d-4227-9f41-cf54c01f4b3c', '69613965-c56c-45fb-b1f8-43406907eff1', '92ce1a2a-5ee2-4be4-8f79-73b0c37b85e8', 'c82cf1fe-b95e-4177-835b-0b8d31d43a64', '1410c1ff-0270-4696-8c09-e45ebfa608ee', 'b3931264-7e6d-47ab-bb39-d8c3d1ec5558', 'd2232df1-d1f4-41a3-bc39-275aa5a3bf4b', '3a36314f-be4d-43e2-8f37-200d6f9ccfb7', '86e2a03b-1373-4d08-9162-5faf8a1393a0', 'f36351eb-18e1-4de5-b61a-6d717b706696', 'fd2ef203-f310-43af-9268-0b6c9080b542', '429ae718-f665-4897-878b-cfce9d618955', 'f9324874-9df9-4eff-898c-b545651f983c', '5f1cc6a8-ce0c-46d4-b66b-68e2d3712e60', 'c5f34dc9-ed1c-464e-afc6-150edf5533d4', '211518aa-d5a8-4c27-a82a-73a1ffd83105', '5b710b7b-198c-4463-bc43-88dd3f35fc58', 'e94a3307-1e91-4cb5-83ec-9356f3383773', 'e2dd1efd-d10f-496c-aa6e-cbc001aa99ff', '4ab4f4ce-bf44-47f6-bb18-6955ff655211', 'a1f418e8-e216-4be8-959e-73f5f1a4372f', '9155d076-b3ba-40f4-9509-c58f76787880', '01395319-7126-417a-bbe1-781da49d4c00', 'a000acac-68b3-492f-969d-3b1b00df46e9', '4120e8b9-f26c-4754-962a-6545e7021d95', '781837c4-5837-41ac-b691-0ca7af6fdd71', '1571c9d2-2bd0-40c0-9533-246c4a3da7f0', '46381908-70f8-44db-9b1f-3cbbda347949', '108df955-e027-4529-93df-f6a4593425a7', '01fac4bc-3891-44aa-973c-a3ac97fef12c', '773d6757-2601-4f30-b6fe-c63c453475e0', '532d1e56-7ec9-4f2f-8f3a-cae0506d6894', 'eda93ee8-18c8-418b-b4ff-02acfb91f859', 'e2833ac5-6b94-40ee-8a3d-4857a59564bc', '3ebac873-00ec-4fd6-ab61-50a040fffff7', '139da8e0-47d6-4db1-9812-2447636ac56d', 'acf638f7-be15-43ac-bbd0-9f3bc826f714', 'dd3568e6-5b1d-4b66-8896-2189395b8da6', 'b18c0f8e-4919-4604-a7aa-d703871b35b3', '5ba0b9fa-8caa-4f30-91b0-a47f7f137f01', '1473025a-6f90-47da-ae8d-19d490f35b73', '3e05fd71-6936-4154-ba0a-588d70073fa3', 'd6729807-8ac0-47a6-9340-a62406ebd245', 'c16d387a-e6dc-4beb-ae84-009d88293520', '98aa6980-c2ed-42e1-98ed-0533711e44d6', 'ffb63c42-cee0-488e-9bab-460e531f4c8e', 'd0a689c2-a8f3-48de-aa0c-b4a62d5bece7', '39742ce5-2da1-4a98-a615-cb6d28e5e126', '1ae1249c-7327-412c-9d6e-b2abf34d671a', '5f6e94bf-42aa-4bb9-84a2-931d77120e89', '450ade75-f379-427c-993d-9df1d02d59d4', 'a8f9500e-8329-4e92-9d19-03811b2e784e', '735c6c36-a451-46d7-ad86-666b6987fb9d', '16cc8204-1f90-461c-bbf2-ce8cf1d06332', 'd1c2346a-3a13-4294-a985-a20254e8f5cd', 'f40fbcb3-705a-4947-90ee-21bbb50b2c71', 'df87ac28-dcdd-4478-ba8f-73efb32f4c81', '4434c5e1-7cdb-4020-8270-144fa15e0e91', '710b0ff3-29e9-4775-bd51-5ac8fadb657d', '74da8f62-e558-4551-9a67-c288f6e01035', 'cbbbb0f6-79e1-4990-b2bc-7dfeb59d0f53', '18a93284-383e-4a87-8650-a2c89fe28677', '966f9d7a-32de-4112-9204-c45e7e5e60d8', '35802c4d-9940-4ceb-b065-4045888b4e01', '60fb71d6-e5db-43b4-b730-e30176ca2175', '3801475b-8693-4c65-aa61-11ffbfbe1f1e', '4e72c549-4b91-4242-bbaf-e08ba99a2297', 'b5af0c00-1b2c-4448-8a97-fc4f768952e4', '4e86ba8b-0f97-490a-b9ad-893ed0b868ae', '52e9e8d3-12c2-470b-b609-90c2d24a68bc', '0320ac65-d548-40c4-8581-022c3153e247', '9de7d883-3b58-4c3b-bcc4-28235417d25e', '16d8c5e9-9622-4ae8-9988-62258df3652e', 'c20c7fec-adb7-4554-8231-a9ebbbe62ae4', 'dbbaec5e-8f2e-46da-aa78-a3788c73ea11', '4957cf9e-51ea-422b-84f1-f08c086e985c', '35c99077-3e10-4a77-9b32-578b7a0fe869', '517a00bb-33dd-4a4a-996e-f7db951cdb0a', '71008e95-f3b9-4709-9288-3c8723e99735', 'b1f9d4ff-ef4c-480e-86f0-542643f593bb', '9065a909-7327-4451-953e-6579ff4c0dd6', 'd424efe3-66a8-4f1f-961f-66cb86625526', '1c6598c2-2d04-4d59-a84a-a56cdcf52f63', '870eb5b1-f2a0-4e85-9cb2-0d7a2efad1c8', 'd96585f2-a1d7-4712-9e5b-13ca7be493e2', 'b4734a42-377c-4d92-b6d4-6c12fbbb6475']\n",
            "['43b5b6bc-cab2-42e3-a5b5-37f7bf9a223f', '9256cc92-98d1-4f77-a05a-d78b7f825314', '36170b40-1b77-4160-acc6-33871be67414', 'ee586bb6-cbee-482c-b6d1-3102167f2077', '6de038b9-5df5-4941-b12c-522393e48f74', '1dec7d32-6e57-428b-a8cb-67cf689eeb61', '9849e734-25ac-4b51-88b8-d011eb613c48', '60a3f7d8-6d9c-48d1-8fc7-aa1da1b1d6b3', '1d67f66b-98bb-4e2c-9cb2-039d34e670d7', 'd762b956-6f3c-414e-98cb-ab52c9b85af2', 'b1f020ca-5999-440a-9894-a5f27840501e', '71208712-2893-4404-9cef-ff090774d057', '34191aa0-59c0-42b9-acb3-d4b47c12da91', '8578dff2-9a62-4794-a11a-c6d11a8ed8a1', '08c86cb3-7c66-444b-8697-47cc8e08e6fc', 'c7802c15-4c03-47ff-a812-e63311e92aee', '8b023061-0fe8-4835-8888-1b8af8456899', '01ae5404-e8a8-40e9-93dd-f0b30223d4e1', '9b2f78d7-41a7-4c6e-a482-bea74a00bfec', '6adce90c-e8ff-4140-a7c7-ebf1cad55119', 'a4dff6a5-b510-4fd3-afb4-f4376bdf6774', '45877030-87bd-44b5-8b49-a69c01217065', 'a9cd689f-d387-4637-8aa1-933db76ece36', '46d6119f-011a-422e-9bfa-be1fb34b304d', '4a66c722-5c36-4086-acbf-128985346174', 'bde2f850-d9c1-4dc0-a4fa-4f9046e9ff83', 'da52cb23-1a9c-410a-963d-b2f55ce85271', '0f423a4d-1bd3-422b-ad79-ad02e3797c94', '51fe1af8-9ab3-40ff-b008-94677c5143d1', '11c7df21-5470-409d-bd9c-48ce6867dfe3', '96ffc24f-1511-4a7b-9df3-f5a8713ada4d', 'b19daffc-0346-46e5-8049-de294cfb3899', '2758e4e6-824f-4149-a37f-64a5408ea2e3', '99ae9419-fa7e-4399-b279-58df786c55e4', '43ae1cc1-b1e3-4bbd-b132-34e056cb2e61', '669fb0dd-9780-4de2-94f5-d3af6cac9439', '060e136f-bd0f-47d7-ab07-e6ef64a045fd', '087fa3b3-eeec-46ab-81e3-257c419a722c', '8abb9998-b1d2-42c0-8038-0af332af8d66', 'd92ec8d8-fac5-4d20-8e90-2b6f5315fd48', 'cf03e9d5-15de-4871-9da4-21593c798110', '35a978db-67eb-4e24-85bf-66d930e53423', 'b5716086-cfc7-40b8-a700-63f7c5ab6404', '967b07a1-9e6b-428f-90b4-5a295c1a1cf0', 'b41f63ef-1b88-4529-92ba-53284e068320', '7f81384c-6b37-4e4d-9ee1-a32a0eee1bb4', 'e7c071ad-54ae-4006-9220-3c5423ddf91f', 'd7cb7b69-2cd5-46db-b5ab-b6998b1cc9a1', '34d9ec32-e14b-4b38-8a7d-3392bb5cc267', '79536980-88a8-4df9-aa4b-285f6bdaed22', 'cbd82523-b471-4c2f-8a81-5dae5fb7c01e', '51c84c59-66b8-45b7-b923-016ad225739e', 'a9383f5c-8273-4606-8478-83738f6d1c23', '0ca6c704-5525-4c22-8e25-75a7fb964c4c', '7241b7e1-d51d-4c19-b19d-8fef8af02c0c', 'a6ccf5b6-80fe-44db-aa03-91eb4c1543f6', 'f57d0058-8fb8-42ab-bafd-8f3f25b3a39f', 'bd18ca02-b2d8-4baf-9162-832bb517aedc', 'cdc87f60-f23b-49d4-9cc5-c596dc50c705', '67a9cb96-f4bb-4e28-a80f-d865d759bd71', 'ad3e06ef-68a2-40cd-8415-8506e924ab79', '1c46b2cc-b8cf-4624-bc58-47fb1e9800f8', '76012002-cb80-4b6b-b3cc-d5dfd650405e', 'c3445a2c-c04e-4f98-b181-71518b7a8713', '145c5715-1c39-43b8-88fa-8dc46a727340', '8c92473d-ee38-465f-b7cf-3a7c997ba3be', '691f83d4-2336-4968-bc1a-2f1f960fcdb4', '55691c17-a57a-4bf9-9db2-0b54b905ea23', 'fbd83747-11a9-46e0-b481-d67d9c97b4da', '4d0754dd-437c-4330-9551-f68c7339c5bb', 'a0be6764-a4c4-4959-b59f-42ef249c93f8', 'eb61fc5d-050f-4510-9745-0e0c695aa9a2', '1c44c53f-0337-47a0-8f65-77399a1d5023', '2e1db836-d189-4f97-8fcf-d37d1086cf6e', 'e6dfd2a7-270d-47be-82a7-3667aedc7d9c', '4218e87d-d6fc-4c2f-8afb-085dd5094ece', 'eccc298f-52b3-49a2-aa08-c81f3a8322ef', '95de3637-0e2f-4b9e-9554-b8a11c5b0b6b', 'e388bb00-13dc-4c00-af72-1536bc7eeaa7', '5772581f-d560-48eb-b82b-8bd12e464e90', 'b609fb39-b1e7-489e-9480-8d91cd2ae341', '276af214-b1e1-4230-9df2-902d447b9e3a', 'ef641fba-4422-40e1-92c9-88b762e60b74', '07fceec0-abf7-4962-970f-23fd724eb388', '02ec426e-2050-4088-8070-24bd4bf50977', 'cd9cecba-a41b-40a8-b032-e6eba8dfd21e', '176f3ab9-7127-4de8-9178-a2988e9fc0ce', '37d6e7f6-e2af-4291-b16d-f2adb0bf789c', '9ecef63e-a322-49e5-83b8-af1a22ed6f31', '626312c9-7b5e-4b91-9b2a-e3f6257cf4b9', '7886d2fa-6905-4081-a994-f2d6ef126851', '86b84c63-e614-44e2-9906-615a05f3432c', 'cd435334-dda0-4298-aec8-f398914b3a9b', '73856e6c-2ac5-4d82-a0d5-7b249b3e1350', 'b903c310-69bf-47d7-8c8b-23c07d16afa1', 'cae188c2-b628-46b3-8eac-ef2a430a33a1', 'adf41c42-7eb1-442f-948e-77d74380775d', 'cfc5f1c9-e162-4497-8401-ac261071ea29', '7aa0bb73-5dce-46fe-8c34-a8a27a7e5daa', '69eed841-6dcb-46ec-9e47-b6fd09f9d0ed', '788150b3-5293-4f6f-8f38-9785242f7fc8', 'e88a30f7-14ea-4b40-84f6-e7d841895b98', '3a937c70-51e5-426f-a5b1-8fd756c20e39', 'c70fa8a6-01df-4ce9-838c-d6a9be6acec8', '3ee049de-aec6-4f01-8bff-6da76af3b09d', '9cec15cf-a055-4fbd-8de5-9241b07d4004', '63801365-9cd9-435d-8158-bd1d8fcd1200', 'c7b1fe1d-a27e-4e1e-bdd4-cc70545d9241', '5d4ce7bd-39f3-47fe-a92c-1a65f56c7c1e', 'eebd76c5-6969-4b8f-8f7a-a94464b428f7', '889a927a-19f3-43c0-a227-c6b524af71a7', '4e83e722-8bf8-47a5-992e-0a30a5d52c46', '517bc13d-2411-4716-bffb-4cadaa1f19ea', 'd244a114-f4ac-495e-a44e-414667783f9e', '61135fff-a777-4e7a-bb08-a0829203e452', '4a67fc8a-5442-43ab-aff4-c9bae98ccacb', '7c2aa428-5c33-4917-bbd5-d223af12bdee', 'b370f476-780f-4c99-b777-c1a33dad9982', '0a7159ba-d653-4094-961e-57a02d6d0da2', 'cf0c5a76-c732-42bf-8c91-4a0aff0e9e41', '950aeb9a-41df-411c-9418-d0e324d78897', 'e44bdfc8-9c7a-492b-920e-73839f735c31', 'ecef5805-960d-4367-be9f-36bb591261dd', '39053724-0653-40cb-8ce5-493756240a6e', '49600a02-613c-4dcc-b4a7-8484ff9c3858', '4611bfde-b8f6-450a-b517-2ba6c3948a90', '0cb25f8c-a850-4fee-8e48-7069f005fcae', '9d326474-196c-45a4-9b4c-3a3b031c4810', '84a6f80c-5d39-4e8f-ac23-dcb6c9d216c7', '54a335b5-ed09-4792-9b47-9f62c8785564', 'ee8abc85-269d-4dd1-b250-019861bf63a3', '3bc78244-8599-4140-8cee-53cd4c2d020b', '204bd2b6-1dd8-4f74-a303-d5204c7e6e76', 'd53a63b1-c856-42e0-af74-323d55f8406c', '88d55bd0-cb4b-4e69-b33d-7c50c7b498c0', 'e5f9c141-fa59-4ad3-8651-1feee7b4def5', 'd950dd14-9025-440b-9106-5970de364a40', '469bec63-97e4-4ed5-adcb-b381a05ae84e', '8b36b58e-1f2d-4419-98b9-eabfd60e76cb', 'c8cd44f0-d322-4d24-883f-6aa9e01ca95c', 'fc60b7ac-b932-4df0-b390-21af71a78b78', 'c9365376-7cf7-4bdd-9045-0c0c5e4abb72', '5c9ee7bf-60af-48c0-9a61-8584c39cba1f', '8e00eec6-3c41-484a-adda-ee9985d8f2ed', '51193e7b-15ef-44c2-9495-a3df21dc9037', 'a9084adf-bdda-4975-94ed-26890b58e49d', 'b2e0fb44-4e65-41d6-9c5c-011b302f87c0', '4796f306-3279-4832-8a05-05dcfd387bf7', 'e6096144-67e9-4b6d-ad22-13a0137a2fbc', '773e9272-3b23-4f52-b771-5ac5965f124a', '06c0e6b3-c3a4-445a-8a86-02b0ae88beec', '083b5713-8069-43fa-9947-0515aaf0f8d9', 'cf0d6284-de0b-44bd-8009-1ee624c0fe57', '4e2af186-87eb-48a4-be7e-b943b2570ef3', '5c1f10ec-1256-44ae-8d77-a483dbcc5124', '096c4f6c-eb39-40ba-a08b-7c62cf0d720a', 'b46a8a4c-0128-4f04-8bd3-74510a0fb185', 'ce9e2fcb-53fd-4be9-bd7b-288aaf9a4aff', '750f51ae-8367-4bc4-a2b1-9a611d1b1548', 'a62ad438-db95-4f0d-af30-e3eee47df088', '3eaca5b9-1bdd-4a49-ba78-decd63d44f2c', '5c0d9772-2354-4bcb-ac76-6169623883e4', '9be94a2b-a0cd-4a2b-916b-19b54d10dc2a', '873294e6-1718-437b-b9c5-9f5c61ab5e70', '5761d00c-b13a-48c2-8a71-81d6e86c81e8', '0a57259d-8032-4f33-b16d-19dcc649a4ca', '2df9b68e-452a-439d-a412-612c0433eaf4', 'edb0384f-09e1-4c96-9d05-940a9cdf0428', 'c7b1b0fa-f81b-4d32-953d-39f9b16a2129', 'c7b0b6dc-e550-4ddc-b4c1-661eebb9fa07', '456180d4-d6d5-45e3-9d58-b26b1c877d0e', '3edd3830-af77-4ea2-9d6e-12a308a50817', '015353f9-2af0-4770-99d9-b39aa358e2ae', '7c179100-0c11-4589-a328-5a4f64677dfb', '2bce2966-6437-422d-8a5e-b2dbdaab4da2', 'e0c613ab-6e30-4b18-95d0-6d130668ca31', '0c04f7dc-ad3c-44de-b3d7-203c4b430979', 'cda5128c-9c10-4015-81e3-792698177f6d', 'dc9e5946-f39f-427d-a7ea-e864b17b5f36', '92b48cb6-57f3-4b6d-a92f-6ad31213c68a', '7774afd4-fbe2-41bb-9a1b-9a9a40ac65db', 'eea899d8-3caa-4caa-ada7-9c576d356480', 'b8931df7-a63a-4f6b-9fbb-2633f5a7d2b7', '3d5c9de8-7bae-4c7e-846b-4369be9fd16e', 'b10e2c57-c9cb-4bd8-8c92-781b3e91d999', '1b49fa33-03ea-432f-ac30-1bc5e1111799', 'fb2fc10d-f6e9-4483-bc83-c3ad080a64e1', 'cb2df7f1-1e55-4037-9af1-37276d69fadf', 'af20fc72-bfb9-4fbc-aaa4-38d65922b36b', 'a7ecf5ff-e376-4f54-951d-cc9b32cdb6ee', '0ab2c503-5ee0-469f-ba9e-1aa53e175c44', '331ed495-c0be-45c3-a7e2-35330afd0fee']\n",
            "['a7d48970-aef8-4659-a073-b7d7c1a50180', 'a0b95524-c67b-4bd7-880e-a6f325025815', 'ddaf81ae-4f80-4270-a940-bc5c9198782c', 'adc2c6bd-bbbc-48d0-a6f6-03967c37322e', 'de6d12dc-fd87-466c-8319-0eb402d51c4f', 'ec878598-b179-49f8-a803-c0baba47dc22', '4ca6b154-8edf-424f-85ae-629fd39d26c5', 'b9bb80a1-bdc2-4f3a-b185-f4562ad04d3e', '0b4f9219-2c2c-407f-b666-c9220ad422e6', '272155f7-a9cc-4d62-bb29-1333d0b35ac5', 'c31a575b-59c0-4fca-b034-a43f37be0d1d', '58f81f9c-b799-4a67-91a7-fec3f8a5e8a5', 'eaba3f73-17b6-432d-bd29-24f2e4dd2992', '6f9d3322-e981-4927-b9d1-c568d4b2a37b', '79883789-80e7-4256-aa5d-e2b14bf15c3c', '01018b9a-933d-4562-9124-55d0a8d5fce6', '6b22fdff-bf7a-4680-a881-8f4e60a2ff13', '430f28f2-287e-4051-997e-2e5ba1e687d1', '65224051-1193-43c4-b681-3add5972de3b', '30d99dd1-6827-42f5-9343-e91896efa203', 'da87c8ec-e677-4a3b-a4b4-99f0070bef0d', 'd9b42faf-dab3-473e-8710-a00c726a64ae', 'c31b1882-8e5d-4f62-ba61-0e7b4e420804', 'e81eb01c-8c1b-4a59-9e50-b17b42a50027', 'f8cbb1ad-bf16-4b5e-90f4-feea17fa3cc3', '97f75edf-49d6-4a92-9ec2-1af1450b7fac', '9bc3c7d5-c102-4249-9bf5-7645ad56f79b', '8a586187-fb94-4ba4-90f0-1c26a8de64b5']\n",
            "['b740bc2b-c18b-4eaa-846e-2fa8504d90a1', '7268afac-53a1-4022-a1c3-e12646fc4bb7', 'bab7dbb1-d11a-4555-a345-0a75e930eadd', 'e624fe5e-5a46-4831-a4c8-d7fa0b463faf', '437b2ff6-fc4c-49f9-9e73-674149455315', 'ef014f42-4fa5-4110-96c3-78a453fe1562', 'a8e9ae4a-eb28-4cb0-871c-c7c40905ae4f', '27c1026e-4d19-4d15-9418-c4f32565e7be', '12532eac-cfd9-4a25-91c2-3a74aaac8a40', '06c549d3-daa1-478b-b37c-83674dee13bc', '584e9078-ff46-4f7e-92a4-055836498fda', '700b61f6-2168-48dc-8513-0157fd3ed9ed', 'e07bd37c-5989-4200-8f48-a963fdb52539', '2d94a009-0495-4f3e-b4f2-5a94fd0054ef', 'c0bf5449-84db-4a44-b5ed-6c2f0d01cf6b', '96f145cf-1a38-46dd-af9f-af6c3eea4988', 'fdbbd71a-ceae-465d-a6be-7e69b619534a', 'a1aefb73-36e0-4e85-9010-99fd5c54926d', '90ad892a-554d-4540-98cb-7f78db10c3e8', '09b46135-e25c-48ef-b77e-0d7df5f945e7', '9217c7d2-4703-48ce-a90c-0d4a6878f622', 'ec8deb24-2a67-4671-bfaa-6391767f0eb2', 'b32f3bf7-2ede-4b8c-b77b-911c592e3466', '7f0ed5ed-a216-44b1-bf66-1160c69e8ad0', '8facec36-570a-47e2-ac5a-4c8cb8d45367', '70219ce2-3f74-49d9-b67c-ae6c22e238b4', 'e2a417e0-a96e-4b83-bc9d-bb4405ca6434', '744867f3-f9aa-4771-aaa8-30ab89dad111', '3df171ec-93c1-4c56-b56e-fca128f130a1', 'b0c74234-3ba7-47bf-a5d8-767ea38fd03e', '715c5d43-1e41-41c4-b3b9-bfdcbd4fa4a8', 'ee8c8514-68ff-4fa3-a262-7c0db157889c', 'c349e2d2-65cc-486b-b5f1-588014b291a0', '20b2fcae-cce0-42db-8afa-330819b74a76', 'dea0e220-5263-4de4-92f7-746496b83a6d', '7d04b786-45f6-4ecf-9ec8-0f0110cc0ab0', 'e9da8565-8412-40d9-99de-1b56c2b60789', 'd0d1f784-a57f-4ca0-a50d-dc33b513d939', 'a479617e-97c7-4f67-a953-d61ee73fa9d4', '35c5f273-a4cf-423e-ade3-2071360a508e', '7af49824-3fdf-4090-af37-5c2861fb2fd7', '2eac0a29-86fb-416a-962b-40337982f994', '83a1faf1-6f66-4a54-a1ec-ac0767534361', 'ec8d0b05-2e80-4659-8c82-fc2a2cb560dc', '5f3d8c63-f997-4ba1-b3de-f6b8db3d8c9d', '7f07d386-7f31-4724-9217-ef4414bcce91', '75b1e2a7-4983-4823-8e65-1adb57173c1e', 'e8c2cb05-4ab8-4e30-91f8-855273ca7b45', '5efb6fd2-3ea9-4c37-a5c7-c25791d15251', 'b5327a26-1bae-4d3d-9184-55b15b62df1c', 'dea53e2f-b502-4883-b0df-b37aa8b219ff']\n"
          ],
          "name": "stdout"
        }
      ]
    },
    {
      "cell_type": "code",
      "metadata": {
        "id": "V9C-Y9vY5iLe"
      },
      "source": [
        "#Get Skin \n",
        "#Split into training and validation \n",
        "#Split each training and validation into further sub-labels: <5 years and >5 years "
      ],
      "execution_count": 12,
      "outputs": []
    },
    {
      "cell_type": "code",
      "metadata": {
        "id": "1O9AXhuJ5nTg"
      },
      "source": [
        "df_skin = df[df.biopsy_tissue_type == \"Skin\"]"
      ],
      "execution_count": 13,
      "outputs": []
    },
    {
      "cell_type": "code",
      "metadata": {
        "id": "NzghUm7Y5qCH"
      },
      "source": [
        "train_skin, validation_skin = np.split(df_skin.sample(frac=1, random_state=42), \n",
        "                       [int(.8*len(df_skin))])"
      ],
      "execution_count": 14,
      "outputs": []
    },
    {
      "cell_type": "code",
      "metadata": {
        "colab": {
          "base_uri": "https://localhost:8080/"
        },
        "id": "4Gl1as2a5tB_",
        "outputId": "90211b4a-1087-4d58-c8fb-395d04dc7fcb"
      },
      "source": [
        "#Label 1: early, Label 2: late\n",
        "train_skin_early = train_skin[train_skin.years_survived <= 3]\n",
        "train_skin_late =  train_skin[train_skin.years_survived > 3]\n",
        "validation_skin_early = validation_skin[validation_skin.years_survived <= 3]\n",
        "validation_skin_late = validation_skin[validation_skin.years_survived > 3]\n",
        "\n",
        "print(train_skin_early.shape[0])\n",
        "print(train_skin_late.shape[0])\n",
        "print(validation_skin_early.shape[0])\n",
        "print(validation_skin_late.shape[0])\n",
        "print(train_skin.shape[0])\n",
        "print(validation_skin.shape[0])"
      ],
      "execution_count": 15,
      "outputs": [
        {
          "output_type": "stream",
          "text": [
            "124\n",
            "47\n",
            "34\n",
            "9\n",
            "171\n",
            "43\n"
          ],
          "name": "stdout"
        }
      ]
    },
    {
      "cell_type": "code",
      "metadata": {
        "colab": {
          "base_uri": "https://localhost:8080/"
        },
        "id": "Ykm1-o445vYA",
        "outputId": "2f455872-acf8-4e14-b713-7b063727b65c"
      },
      "source": [
        "skin_training_early = train_skin_early[\"slides__file_id\"].to_list()\n",
        "skin_training_late = train_skin_late[\"slides__file_id\"].to_list()\n",
        "\n",
        "skin_validation_early = validation_skin_early[\"slides__file_id\"].to_list()\n",
        "skin_validation_late = validation_skin_late[\"slides__file_id\"].to_list()\n",
        "\n",
        "print(skin_training_early)\n",
        "print(skin_training_late)\n",
        "print(skin_validation_early)\n",
        "print(skin_validation_late)"
      ],
      "execution_count": 16,
      "outputs": [
        {
          "output_type": "stream",
          "text": [
            "['86789f1c-763c-4eec-94ba-32ea46661770', 'ed1af3d0-a609-4d86-ad80-5e15e6d48683', 'de69c852-f624-4367-a9ff-13a336228c8c', '88186c36-6c50-4a42-8dbd-cf76e3fc0ba6', '862dc232-cc6f-40a4-9da5-a8fe5666975e', '8218f730-2e47-47ca-983d-3c62a335b1a0', 'b79e09de-9300-422b-a62c-1cacc53bd6b9', 'ee40290e-5caf-4861-a005-650b6fe8501b', 'a1784a18-75eb-4dbe-b750-e945e2266264', 'eb1cce0b-cd30-4ffb-8296-3e418da95d56', 'a178524a-c343-483a-aa23-a56eaf8c4efd', 'c1c7228b-6661-4158-a078-24ca1f8d1ea7', '97fcb3a8-e213-4833-8da2-6a9030c475b5', '58ac66fb-80e9-4edf-8346-cff2e4d7cf80', '336d00ab-536e-4cb9-93b4-bd97076e1879', 'd8eb66a8-1cb9-451c-b3a5-8c037a1240fd', '72887cb9-afb7-4061-9840-01d68d82eacd', 'ea8d2a12-0a8b-4f30-b8a5-84f03b14dc4c', '81c239b5-7c34-4f44-ac17-2482220d767c', 'c177f308-b275-4550-bd9b-cda4a46e0c8c', '8a999396-ea3d-4203-84cb-de13f2907879', 'a444b1f6-aa65-4c3b-b445-185a2954db8e', '37e7e0bc-b935-4627-b279-6321f3737db9', '264f9d83-2973-494f-84c4-9b6acf06ca0c', '53fc4724-9a1e-44a4-a7bf-0fca600b934b', '9718b2ea-c0a1-4aea-9fbf-483ae317fd81', '1314e4c2-b0a9-42f3-a080-c8f975bfe22a', '38dec13d-22d2-4c75-90cf-9e6e2bc98636', '7b2bd5a5-5d1b-4c3e-8bf7-529d570d97a4', '2d279cf5-a248-416d-9e76-c98843ce505c', '330a1f46-7812-4061-9a9e-a8ef8028c083', '99bb14f4-8dae-4744-b82b-187ffda971b5', '220cab89-38bd-445f-b45e-8684c39de056', '4ec485b7-2295-404c-b08f-dddb2e088509', '3f8bd422-d4de-418d-a885-c4b839dc066e', '3c90f7fa-178f-4649-8b7b-728a232a213c', '809548ba-2380-413a-a1f2-6a5d8ca93b7d', 'e8f5d673-b455-4166-af4c-c1f41f454c2c', 'fb0ec90e-4037-48e4-ba4b-9a9a86646073', 'f5946f4c-389f-4931-9a39-55ce1ba47e64', '4c6c1749-b4dc-420d-a2bd-bf86dc2b9886', '384fab26-ca6c-47e2-9050-bc58283c2a49', 'da8d92c4-5486-438f-bcc4-9ea70b259d5c', 'c1862cdf-a52a-40fc-854e-c47f3318325c', '04d33d0e-551f-46fc-9439-0f3a8f59c292', '78d153f5-bbc2-42ee-b7b5-5b89d9953e3d', '127e4198-cbc2-4af7-bfbe-c23d8c89715d', 'c974e3c5-1b78-4823-bb32-319118502ddc', 'f3eced2f-4715-4621-b3cd-25f18f78bcab', 'c5690ea9-c9b3-4391-988f-66aa53768c56', '8844c043-3bfc-490a-8dc5-078ccbd11c16', '85313f2e-b525-4944-9c6f-147e783d9113', '2cf66152-4fe3-4e46-89df-912c5d165351', 'c007fd89-d68d-44e6-be93-e36d94b8bb8b', 'ad3797ef-eb96-408b-a388-f8eced5f1cdf', 'bec79c18-cb55-49c0-beaa-615534bb2f3b', 'e04dd552-d3ce-4d6f-b2b9-955ddf02f8d2', '75ce20eb-8640-4719-a554-4c5e63428932', '07211ef8-eceb-4fda-868e-ac95e10c87c8', '1586b077-3a31-46e2-8cdd-4862a4e09d86', 'c3f532ed-ae02-4a77-91b7-48dc2da70787', '74ae0731-f590-487d-a8a8-88730811116f', '10fa2f9f-0551-41ec-aad2-70c747beecd7', '5bad50ec-b66d-4b73-b541-a7e68ae06632', 'a203455e-2fe1-4eca-8382-8bd09f229823', 'aba8a4a4-5b23-4d47-ba6e-3a3669b9e7b7', '18d57f3a-a168-4377-9604-246ca09c7ae6', '5544669b-c07f-46e0-b2b4-331b96f2e161', 'f81befe6-c36c-4441-be0c-7c99304d98a1', '5b6a0a90-4ad5-4118-bd14-621cde69cc9b', 'cb50726c-5d52-4b3a-9eec-a368bb214404', '55eebad5-a529-403e-b5b3-7ec6243b3071', '6d7b0fbd-e1aa-4123-adba-5f40cb36f3e3', '2e328f8d-5ac6-427c-835a-ad34c34bafb0', '23565891-5726-4807-8968-9c4f5d92ef7c', 'bf1027ee-f084-472f-b211-c995c4eac160', 'f0fa75d5-ef4b-4526-a241-be3a9315b9e3', 'f77a32c0-9c62-4d3b-8a7a-d3a99c11fed8', 'dbac1167-ea1f-4f62-a9e3-bbeafff78dfb', '737aa818-3bdf-4aa6-a5e2-b0a306b2039b', '858276d0-b503-49be-bcf0-a2ef0366694c', '2ad32e0f-b07b-4eac-a27b-605c7210d5ad', '3fed6e6d-9172-4019-8672-ab465084e43a', '4367e28b-010d-4937-b6ea-ad97f2590233', '1e692798-c770-4f61-956d-068d06e3e2d0', 'e71ff9e0-0dd5-41ff-aa25-b0e08ceade66', 'bc4d67f9-25d6-482d-be7d-ff94cc65fb2c', '8cfab43c-09fa-408e-84eb-f61ba2841ebc', '6a7d14b0-76a4-4ecb-b50d-ffaacf0fe3be', '32b8ac93-e11e-4e84-b7e9-2037552bc7ed', '606c1534-032e-4e19-b4d6-dfd0ebd15845', '359b4456-6b14-424d-8f19-68ef6d27bf58', 'c16de1fd-65fa-4da1-bca2-a5f3f34c03ea', '0f3f2c02-6bd4-4013-99b1-c88c5eaf9f83', 'cbb91ab3-c8c6-4b88-87b5-7f7d931f1b8a', '5e25e56c-7574-45f6-a9ec-702d3a99bbca', '5fb6f6bd-32d6-4e53-905e-724e5d400f3d', 'f962080c-75b2-4d7a-8cfa-2367c9472356', '130f44a7-5cc7-47c1-ab76-19ce9da65090', '6920d3d4-5d3e-404e-b3c4-6abf3c1352c5', '9ed87f0b-a49b-4141-9e90-1f9fe82c906c', '87fa6a4b-1564-4c63-8774-6db8ccc058f9', '305bfd21-af28-44f4-b471-867f64bb1e7d', 'f81fc0aa-7b67-4f9e-b53e-194f891d087d', 'a749fbdd-72fd-4c0e-b757-9ce44f5bf215', '6e97aac7-81ee-4cee-a180-4cdb403b7bac', '49d59c9c-1a8f-4f61-a7bd-8683b1e453a0', '77c0d5a8-0cb0-484f-9584-e3462eec8ac3', '40550494-330d-4439-94f5-439b4ef09230', '1d2c0c90-46a0-4f57-957c-1091c92921e1', 'c817a5a7-5ae4-4403-9384-d051a9860800', 'e2d3e7c6-91ab-47e6-b38b-f7b1bf07b249', '2941dd3c-5f84-46bb-a753-68bf0c16950a', 'fd6fcf8a-aa4d-43e2-a9a3-85836bd68b5b', '09c6a12c-2a76-48a9-95da-cb741595edb7', 'e78026de-48af-4f1b-a061-40966e61669e', '3bfac169-be90-48c2-8aa2-80aa82fc11c2', '22ecec57-b9f6-46b2-9386-29e4be673905', '9e6a75b9-e1da-4fa8-88de-5a872086ba94', 'ad5dab9e-efe6-4688-bb8d-8679b2783674', '77a86d65-485c-47be-bfef-9619f98141a0', '12b4ab45-c1dc-453f-a4b0-0a52baaf0afe', '66801b14-2e28-4897-89b6-ab35c0aad5e3', '50e81c8a-faf0-4fdd-adcc-604eee001ac7']\n",
            "['59fb8713-9eac-4c10-8dd1-95a94809090b', '0749575a-d868-4eba-bc05-b08eb182ab85', '78eece0b-6581-4400-9b73-10eb13cbc5b5', '1df63d38-4573-417b-951c-6fb3e3482789', '0d5576f4-0558-4c15-a9f1-cb092afbe49e', '498c02db-1b9c-4c02-ac1b-586f9fef9c7c', '77b41cfe-c186-47a8-ac8f-2e5a20ec17ba', '31242299-6aaa-4c9a-8a18-15345bf43c8b', '6cb6a6e2-ab55-49ff-a86e-de7681139d25', '320ebe1a-fa6e-4b06-94db-917e0b82b37d', 'c63688e0-e7a1-435d-b7f2-aa280fb219aa', '00ded484-9e77-4242-96a3-b09996fd0231', '0d57b1f9-ed51-444f-ae59-9624ce9bc85d', '4f2522e4-a1df-463a-979a-d819dca81da0', 'bea05f80-f8d8-4265-bca5-13f2a9f5720f', 'ea629d79-641d-4d00-b0d8-069a5a8e3062', 'fe140fd6-34f8-45f1-a993-59db68460018', 'dc07c8b0-f7f3-4e8b-8357-4c90c0468cda', '043c75ae-992c-41ed-a735-f13fa507ed87', '5a8e6876-3764-4620-831b-04b4d3a10876', '7a6b323a-0cac-4f30-b032-f4935c9071bc', '8b4ca5d8-aeac-403e-a386-25f6014fe520', '5f14ad2f-ad1a-4807-ada0-ee1fa0703f8d', '868cd730-4a78-4cc2-9125-c0c5f945848a', '7f175fb0-85a7-4d32-93f6-06ee9cc24068', 'cfbc5483-fcca-4f59-acee-7ec650396eaa', '777ea621-fa3f-4c1c-b98e-a97ca2b290c6', 'a899c0d7-5710-458d-8b4e-0f1abaf77f9b', '3fe53620-e74f-4be9-80dd-ba713769d614', '8ea993b0-6986-46da-a82e-3c9d5deb607e', '8bd99e43-4880-4a34-ad30-2bda464927ba', '6bba9c94-c20c-4b32-85f4-90155fbf0c47', '07c34fb6-def5-4a06-be08-292d86053462', 'b8860189-6eb3-4a87-862c-4543285221c5', 'a5bbd634-256f-4643-bebb-037f26c46070', '6e5c262f-6a1a-487a-8c2f-c7643141584b', '20f4bdff-3b93-4c19-aaf8-6bf19fc0deb6', 'f92e0add-506e-4cee-b027-2bb010654bd7', '250eb0f6-1072-4c28-ad70-dc52708b58f5', '15eca354-b0d9-4634-ad8f-932ff96a3228', '250db933-857e-4862-bb1b-7bb3268cc95d', '0c288f8b-acb9-4607-8d93-2471603d60e8', 'd78c34cf-5721-4c6d-ab3d-1864e3e9aef8', '60bec74f-782d-4bb9-a43a-468db642a525', 'e021629b-2b04-4e95-be7d-244ad747960d', '076b4dc3-c521-4bee-88f1-e280da753113', 'a98eae18-7396-42e7-b9c5-5e559e2332c8']\n",
            "['e104be78-d044-4ec9-8f1d-5df5df5541b6', '6b5acc0c-d84e-40c8-b8a8-117f3c119c17', '9c1afd62-6249-4432-82cc-ab9fa51013e1', 'e3ade206-8ccb-4fa4-afee-c5de4160ffca', 'ac57c1b9-6b63-4c2d-998b-3b3ce4f3b11f', 'e2c601d4-cb09-4354-a874-4d5c98f28519', '2d2e7a75-7369-4352-a3f6-d9353f5bead3', 'd546a29a-51df-4693-a7cc-88419b8e8cb1', '08850cba-59e8-4a45-9ee4-6fe65f5ff3f2', 'f9d35fda-e7eb-490f-917c-352464e98f5a', 'a8e8e016-da9d-42c2-9846-84065a73d532', '91cf4fee-7211-4351-9bd4-cfbb9ffe36a5', 'db91d8fa-bfcc-4127-98e2-6c6fdab54161', '9a5fe13d-84b9-409e-8328-2ab7041ee705', '2f635a32-ac90-494e-9f35-4ec565f89824', '7bc771d6-4d50-44ae-845b-d18ed67861d1', 'c58c8c14-a9ba-4ec4-a6fb-ede121f099d7', '9b8bf086-a279-4a80-9254-adfb71c8453b', '56ac0a1a-b601-41b7-af27-9bc61d37213b', 'fbc357ac-e47b-4690-96f4-cdab500370e1', 'a8a90dc2-5735-46ea-98ec-dfa7eaac6086', 'd6fcbd8f-9389-4c30-af1b-3a9a3f8ad6a6', '372455b1-0a80-4c22-b7d8-b20c1aa7025b', '8149c306-db94-48f2-94b4-03ac97734991', 'dc86cb9a-bbc8-4562-88b8-fb56d5a9fe55', '966808a3-47c2-48e3-9522-552633862c56', 'f4a4d0ef-2a9d-41c1-9a7c-4dcc91a21a43', '5207040b-d5f1-4674-8449-8bb18877ba8b', 'ee710519-e62e-4f88-8ef1-9d45901cc7e9', '275fc41d-2e2b-4dca-9319-6590fff70396', '2199be1b-dff3-4027-b6b8-6e8ed24913ce', 'd8827bfc-8884-4e1d-9239-95c1cdaae00d', '0cd35db0-cc03-43e9-a283-fdf7f1354980', '02cf02b6-0ad0-434c-af6b-3c73bbdb33bb']\n",
            "['29670360-d201-43cd-9ffb-4e98922adeda', '11b9faf7-8ab4-41c8-8c02-f3aae0458e2b', '2e2ddc8e-f6f4-48f4-9549-7b4198307860', '7d81b95c-6ff8-4267-afa4-ac962c371c9d', '4b867e09-5126-4435-90fa-3aebc734bf62', 'a6528473-8e3a-4d92-9a68-f63ef886170a', '88a6fe77-a439-4126-bd43-6ed00221596b', 'cdb4bbc8-f60f-465f-a6ad-02c3b6b4ae9b', '588fe4d2-2d26-4e06-841c-f942bf8e892f']\n"
          ],
          "name": "stdout"
        }
      ]
    },
    {
      "cell_type": "code",
      "metadata": {
        "id": "AxiQlCLy5yag"
      },
      "source": [
        "base_dir = \"/content/drive/MyDrive/Data/\""
      ],
      "execution_count": 17,
      "outputs": []
    },
    {
      "cell_type": "code",
      "metadata": {
        "colab": {
          "base_uri": "https://localhost:8080/",
          "height": 35
        },
        "id": "DJmOFz1s53TX",
        "outputId": "7e1c7de8-acdb-4fbc-a7be-b3a2663f9248"
      },
      "source": [
        "'''Alternative method using OpenSlide Deepzoom'''\n",
        "\n",
        "#Calculate percentage of tissue in image \n",
        "def calculate_tissue_percentage(img, threshold):\n",
        "    img = img.copy().convert(\"L\")   #convert to grayscale\n",
        "    tissue_pixels = 0\n",
        "    width, height = img.width, img.height\n",
        "    total_pixels = width*height\n",
        "    for x in range(width):\n",
        "        for y in range(height):\n",
        "            if (img.getpixel((x,y)) < threshold):     #threshold value to reject white space\n",
        "                tissue_pixels += 1\n",
        "    return (tissue_pixels / total_pixels) * 100\n",
        "\n",
        "#Information on images\n",
        "def slide_info_dzi(dimension, image):\n",
        "  slide = openslide.OpenSlide(os.path.join(base_dir, str(image) + \".svs\")) #create svs image\n",
        "  tiles = openslide.deepzoom.DeepZoomGenerator(slide, dimension, 0, False) #create deepzoom object \n",
        "\n",
        "  level_count = tiles.level_count - 1  #Number of levels\n",
        "  tile_count = tiles.tile_count        #Number of tiles\n",
        "  level_tiles = tiles.level_tiles      #Number of tiles per level\n",
        "  \n",
        "  return level_count, level_tiles\n",
        "\n",
        "#Crop function to create tiles and save to directory\n",
        "def crop_dzi(dimension, image, level, directory): \n",
        "  slide = openslide.OpenSlide(os.path.join(base_dir, str(image) + \".svs\")) #create svs image\n",
        "  tiles = openslide.deepzoom.DeepZoomGenerator(slide, dimension, 0, False) #create deepzoom object \n",
        "\n",
        "  #create RGB tiles and filter using threshold value\n",
        "  tiles_rgb = []\n",
        "  loop = 0\n",
        "  counter = 0\n",
        "\n",
        "  level_count, level_tiles = slide_info_dzi(dimension, image)  \n",
        "  for x in range(level_tiles[level_count - level][0]):\n",
        "    for y in range(level_tiles[level_count - level][1]):\n",
        "      tile_rgb = tiles.get_tile((level_count - level), (x, y))    #get tile at each column/row\n",
        "      #print(calculate_tissue_percentage(tile_rgb, 200))\n",
        "      if(calculate_tissue_percentage(tile_rgb, 200) >= 35):       #calculate tissue percentage\n",
        "        tiles_rgb.append(tile_rgb)                                #list to track number of tiles kept\n",
        "        tile_rgb.save(directory + str(image) + \"_\" + str(counter) + \".png\")     #png image saved to directory\n",
        "        counter += 1\n",
        "      #print(\"Loop\" + str(loop))\n",
        "      loop += 1\n",
        "  return tiles_rgb\n",
        "\n",
        "\n",
        "'''image_list = ['8cfab43c-09fa-408e-84eb-f61ba2841ebc']\n",
        "image = '8cfab43c-09fa-408e-84eb-f61ba2841ebc'\n",
        "slide_info_dzi(512, image)'''"
      ],
      "execution_count": 20,
      "outputs": [
        {
          "output_type": "execute_result",
          "data": {
            "application/vnd.google.colaboratory.intrinsic+json": {
              "type": "string"
            },
            "text/plain": [
              "\"image_list = ['8cfab43c-09fa-408e-84eb-f61ba2841ebc']\\nimage = '8cfab43c-09fa-408e-84eb-f61ba2841ebc'\\nslide_info_dzi(512, image)\""
            ]
          },
          "metadata": {
            "tags": []
          },
          "execution_count": 20
        }
      ]
    },
    {
      "cell_type": "code",
      "metadata": {
        "id": "OcoKw3iH6f_Z"
      },
      "source": [
        "def generate_tiles(directory, image_list):\n",
        "  dimension = 512\n",
        "  level = 3\n",
        "  for image in image_list:\n",
        "    tiles_rgb = crop_dzi(dimension, image, level, directory)\n",
        "    print(\"List length\" + str(len(tiles_rgb)))\n",
        "  \n",
        "#generate_tiles(\"/content/drive/MyDrive/Directory/\", image_list)"
      ],
      "execution_count": 21,
      "outputs": []
    },
    {
      "cell_type": "code",
      "metadata": {
        "id": "fJttC2Y96jc3"
      },
      "source": [
        "#skin_training_early - skin_train_dir -> early\n",
        "#skin_training_late - skin_train_dir -> late\n",
        "#skin_validation_early - skin_validation_dir -> early\n",
        "#skin_validation_late - skin_validation_dir -> late\n",
        "#do same for lymph\n",
        "\n",
        "#shutil.move(\"/content/drive/MyDrive/readable_data.csv\", \"/content/drive/MyDrive/Directory/readable_data.csv\")\n",
        "\n",
        "base_dir_image = \"/content/drive/MyDrive/Data\"\n",
        "\n",
        "#directory with early training skin images \n",
        "#directory with early validation skin images\n",
        "#directory with late training late images \n",
        "#directory with late validation skin images \n",
        "generate_tiles(\"/content/drive/MyDrive/Data/skin_train_dir/early/\", skin_training_early)\n",
        "generate_tiles(\"/content/drive/MyDrive/Data/skin_train_dir/late/\", skin_training_late)\n",
        "generate_tiles(\"/content/drive/MyDrive/Data/skin_validation_dir/early/\", skin_validation_early)\n",
        "generate_tiles(\"/content/drive/MyDrive/Data/skin_validation_dir/late/\", skin_validation_late)\n",
        "\n",
        "#directory with early training skin images \n",
        "#directory with early validation skin images\n",
        "#directory with late training late images \n",
        "#directory with late validation skin images \n",
        "generate_tiles(\"/content/drive/MyDrive/Data/lymph_train_dir/early/\", lymph_training_early)\n",
        "generate_tiles(\"/content/drive/MyDrive/Data/lymph_train_dir/late/\", lymph_training_late)\n",
        "generate_tiles(\"/content/drive/MyDrive/Data/lymph_validation_dir/early/\", lymph_validation_early)\n",
        "generate_tiles(\"/content/drive/MyDrive/Data/lymph_validation_dir/late/\", lymph_validation_late)"
      ],
      "execution_count": null,
      "outputs": []
    }
  ]
}